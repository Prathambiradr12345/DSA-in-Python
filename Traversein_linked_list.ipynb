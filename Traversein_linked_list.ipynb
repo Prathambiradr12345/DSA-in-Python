{
  "nbformat": 4,
  "nbformat_minor": 0,
  "metadata": {
    "colab": {
      "provenance": [],
      "authorship_tag": "ABX9TyPvn+SlBir1WWN+XiejQInk",
      "include_colab_link": true
    },
    "kernelspec": {
      "name": "python3",
      "display_name": "Python 3"
    },
    "language_info": {
      "name": "python"
    }
  },
  "cells": [
    {
      "cell_type": "markdown",
      "metadata": {
        "id": "view-in-github",
        "colab_type": "text"
      },
      "source": [
        "<a href=\"https://colab.research.google.com/github/Prathambiradr12345/DSA-in-Python/blob/main/Traversein_linked_list.ipynb\" target=\"_parent\"><img src=\"https://colab.research.google.com/assets/colab-badge.svg\" alt=\"Open In Colab\"/></a>"
      ]
    },
    {
      "cell_type": "code",
      "execution_count": 12,
      "metadata": {
        "id": "sj25MnJJ1F0s"
      },
      "outputs": [],
      "source": [
        "class linked:\n",
        "  def __init__(self): # Added an __init__ method to initialize the linked list\n",
        "    self.head = None # Set head to None initially\n",
        "  def __str__(Self):\n",
        "    curr=self.head\n",
        "    result=''\n",
        "    while curr!=None:\n",
        "      result=result+str(curr.data)+'->'\n",
        "      curr=curr.next\n",
        "    return result[:-2]\n",
        ""
      ]
    },
    {
      "cell_type": "code",
      "source": [],
      "metadata": {
        "id": "cpIM7Uc45Pak"
      },
      "execution_count": null,
      "outputs": []
    },
    {
      "cell_type": "code",
      "source": [
        "l=linked()\n",
        "l.insert(1)\n",
        "l.insert(2)\n",
        "l.insert(3)"
      ],
      "metadata": {
        "colab": {
          "base_uri": "https://localhost:8080/",
          "height": 193
        },
        "id": "yVVnaBsR4FFk",
        "outputId": "cdeab2b1-5455-40a9-ed4d-e7dd5b62269f"
      },
      "execution_count": 13,
      "outputs": [
        {
          "output_type": "error",
          "ename": "AttributeError",
          "evalue": "'linked' object has no attribute 'insert'",
          "traceback": [
            "\u001b[0;31m---------------------------------------------------------------------------\u001b[0m",
            "\u001b[0;31mAttributeError\u001b[0m                            Traceback (most recent call last)",
            "\u001b[0;32m<ipython-input-13-64cf8b7a64ca>\u001b[0m in \u001b[0;36m<cell line: 2>\u001b[0;34m()\u001b[0m\n\u001b[1;32m      1\u001b[0m \u001b[0ml\u001b[0m\u001b[0;34m=\u001b[0m\u001b[0mlinked\u001b[0m\u001b[0;34m(\u001b[0m\u001b[0;34m)\u001b[0m\u001b[0;34m\u001b[0m\u001b[0;34m\u001b[0m\u001b[0m\n\u001b[0;32m----> 2\u001b[0;31m \u001b[0ml\u001b[0m\u001b[0;34m.\u001b[0m\u001b[0minsert\u001b[0m\u001b[0;34m(\u001b[0m\u001b[0;36m1\u001b[0m\u001b[0;34m)\u001b[0m\u001b[0;34m\u001b[0m\u001b[0;34m\u001b[0m\u001b[0m\n\u001b[0m\u001b[1;32m      3\u001b[0m \u001b[0ml\u001b[0m\u001b[0;34m.\u001b[0m\u001b[0minsert\u001b[0m\u001b[0;34m(\u001b[0m\u001b[0;36m2\u001b[0m\u001b[0;34m)\u001b[0m\u001b[0;34m\u001b[0m\u001b[0;34m\u001b[0m\u001b[0m\n\u001b[1;32m      4\u001b[0m \u001b[0ml\u001b[0m\u001b[0;34m.\u001b[0m\u001b[0minsert\u001b[0m\u001b[0;34m(\u001b[0m\u001b[0;36m3\u001b[0m\u001b[0;34m)\u001b[0m\u001b[0;34m\u001b[0m\u001b[0;34m\u001b[0m\u001b[0m\n",
            "\u001b[0;31mAttributeError\u001b[0m: 'linked' object has no attribute 'insert'"
          ]
        }
      ]
    },
    {
      "cell_type": "code",
      "source": [
        "print(l)"
      ],
      "metadata": {
        "colab": {
          "base_uri": "https://localhost:8080/"
        },
        "id": "-jHzfDGy4H4S",
        "outputId": "8f6ef1ed-ae0a-4a81-8ecb-68bc21d20409"
      },
      "execution_count": 10,
      "outputs": [
        {
          "output_type": "stream",
          "name": "stdout",
          "text": [
            "<__main__.linked object at 0x7a1c0fed3ac0>\n"
          ]
        }
      ]
    },
    {
      "cell_type": "code",
      "source": [
        "class linked:\n",
        "  def __init__(self):\n",
        "    self.head = None\n",
        "  def __str__(self):\n",
        "    curr=self.head\n",
        "    result=''\n",
        "    while curr!=None:\n",
        "      result=result+str(curr.data)+'->'\n",
        "      curr=curr.next\n",
        "    return result[:-2]\n",
        "\n",
        "  def insert(self,data): # Added the insert method to the linked class\n",
        "    newnode=Node(data)\n",
        "    newnode.next=self.head\n",
        "    self.head=newnode\n",
        "\n",
        "class Node: # Added the Node class\n",
        "  def __init__(self,data):\n",
        "    self.data=data\n",
        "    self.next=None"
      ],
      "metadata": {
        "id": "pi8VzcHv5QQw"
      },
      "execution_count": 14,
      "outputs": []
    },
    {
      "cell_type": "code",
      "source": [
        "l=linked()\n",
        "l.insert(1)\n",
        "l.insert(2)\n",
        "l.insert(3)"
      ],
      "metadata": {
        "id": "GTfLq8YZ5ToR"
      },
      "execution_count": 15,
      "outputs": []
    },
    {
      "cell_type": "code",
      "source": [
        "print(l)"
      ],
      "metadata": {
        "colab": {
          "base_uri": "https://localhost:8080/"
        },
        "id": "Pu7R_R2J5eJb",
        "outputId": "75d96ba6-e19e-49eb-e02a-fd6b10c59a79"
      },
      "execution_count": 16,
      "outputs": [
        {
          "output_type": "stream",
          "name": "stdout",
          "text": [
            "3->2->1\n"
          ]
        }
      ]
    }
  ]
}