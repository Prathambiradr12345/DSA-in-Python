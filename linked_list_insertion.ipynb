{
  "nbformat": 4,
  "nbformat_minor": 0,
  "metadata": {
    "colab": {
      "provenance": [],
      "authorship_tag": "ABX9TyN8rGNVAqXiBoqRD+IQpLAH",
      "include_colab_link": true
    },
    "kernelspec": {
      "name": "python3",
      "display_name": "Python 3"
    },
    "language_info": {
      "name": "python"
    }
  },
  "cells": [
    {
      "cell_type": "markdown",
      "metadata": {
        "id": "view-in-github",
        "colab_type": "text"
      },
      "source": [
        "<a href=\"https://colab.research.google.com/github/Prathambiradr12345/DSA-in-Python/blob/main/linked_list_insertion.ipynb\" target=\"_parent\"><img src=\"https://colab.research.google.com/assets/colab-badge.svg\" alt=\"Open In Colab\"/></a>"
      ]
    },
    {
      "cell_type": "code",
      "execution_count": 1,
      "metadata": {
        "colab": {
          "base_uri": "https://localhost:8080/"
        },
        "id": "yV_dw13NEr_a",
        "outputId": "4cf41685-f912-428e-a11e-fd14b5f8b2a2"
      },
      "outputs": [
        {
          "output_type": "stream",
          "name": "stdout",
          "text": [
            "3\n",
            "None\n"
          ]
        }
      ],
      "source": [
        "class Node:\n",
        "\n",
        "  def __init__(self,value):\n",
        "    self.data = value\n",
        "    self.next = None\n",
        "\n",
        "\n",
        "a = Node(1)\n",
        "b = Node(2)\n",
        "c = Node(3)\n",
        "\n",
        "\n",
        "print(c.data)\n",
        "\n",
        "3\n",
        "\n",
        "a.next = b\n",
        "b.next = c\n",
        "\n",
        "\n",
        "print(c.next)\n",
        "\n",
        "None\n",
        "\n",
        "int(0x7fde268dfdd0)\n",
        "\n",
        "140592106307024\n",
        "\n",
        "class Node:\n",
        "\n",
        "  def __init__(self,value):\n",
        "    self.data = value\n",
        "    self.next = None\n",
        "\n",
        "\n",
        "class LinkedList:\n",
        "\n",
        "  def __init__(self):\n",
        "\n",
        "    # Empty Linked List\n",
        "    self.head = None\n",
        "    # no of nodes in the LL\n",
        "    self.n = 0\n",
        "\n",
        "  def __len__(self):\n",
        "    return self.n\n",
        "\n",
        "  def insert_head(self,value):\n",
        "\n",
        "    # new node\n",
        "    new_node = Node(value)\n",
        "\n",
        "    # create connection\n",
        "    new_node.next = self.head\n",
        "\n",
        "    # reassign head\n",
        "    self.head = new_node\n",
        "\n",
        "    # increment n\n",
        "    self.n = self.n + 1\n",
        "\n",
        "  def __str__(self):\n",
        "\n",
        "    curr = self.head\n",
        "\n",
        "    result = ''\n",
        "\n",
        "    while curr != None:\n",
        "      result = result + str(curr.data) + '->'\n",
        "      curr = curr.next\n",
        "\n",
        "    return result[:-2]\n",
        "\n",
        "  def append(self,value):\n",
        "\n",
        "    new_node = Node(value)\n",
        "\n",
        "    if self.head == None:\n",
        "      # empty\n",
        "      self.head = new_node\n",
        "      self.n = self.n + 1\n",
        "      return\n",
        "\n",
        "    curr = self.head\n",
        "\n",
        "    while curr.next != None:\n",
        "      curr = curr.next\n",
        "\n",
        "    # you are at the last node\n",
        "    curr.next = new_node\n",
        "    self.n = self.n + 1\n",
        "\n",
        "  def insert_after(self,after,value):\n",
        "\n",
        "    new_node = Node(value)\n",
        "\n",
        "    curr = self.head\n",
        "\n",
        "    while curr != None:\n",
        "      if curr.data == after:\n",
        "        break\n",
        "      curr = curr.next\n",
        "\n",
        "    if curr != None:\n",
        "      new_node.next = curr.next\n",
        "      curr.next = new_node\n",
        "      self.n = self.n + 1\n",
        "    else:\n",
        "      return 'Item not found'\n",
        "\n",
        "  def clear(self):\n",
        "    self.head = None\n",
        "    self.n = 0\n",
        "\n",
        "  def delete_head(self):\n",
        "\n",
        "    if self.head == None:\n",
        "      # empty\n",
        "      return 'Empty LL'\n",
        "\n",
        "    self.head = self.head.next\n",
        "    self.n = self.n - 1\n",
        "\n",
        "  def pop(self):\n",
        "\n",
        "    if self.head == None:\n",
        "      # empty\n",
        "      return 'Empty LL'\n",
        "\n",
        "    curr = self.head\n",
        "\n",
        "    # kya linked list me 1 item hai?\n",
        "    if curr.next == None:\n",
        "      # head hi hoga(delete from head)\n",
        "      return self.delete_head()\n",
        "\n",
        "\n",
        "    while curr.next.next != None:\n",
        "      curr = curr.next\n",
        "\n",
        "    # curr -> 2nd last node\n",
        "    curr.next = None\n",
        "    self.n = self.n - 1\n",
        "\n",
        "  def remove(self,value):\n",
        "\n",
        "    if self.head == None:\n",
        "      return 'Empty LL'\n",
        "\n",
        "    if self.head.data == value:\n",
        "      # you want to remove the head node\n",
        "      return self.delete_head()\n",
        "\n",
        "    curr = self.head\n",
        "\n",
        "    while curr.next != None:\n",
        "      if curr.next.data == value:\n",
        "        break\n",
        "      curr = curr.next\n",
        "\n",
        "    # 2 cases item mil gaya\n",
        "    # item nai mila\n",
        "    if curr.next == None:\n",
        "      # item nai mila\n",
        "      return 'Not Found'\n",
        "    else:\n",
        "      curr.next = curr.next.next\n",
        "      self.n = self.n - 1\n",
        "\n",
        "  def search(self,item):\n",
        "\n",
        "    curr = self.head\n",
        "    pos = 0\n",
        "\n",
        "    while curr != None:\n",
        "      if curr.data == item:\n",
        "        return pos\n",
        "      curr = curr.next\n",
        "      pos = pos + 1\n",
        "\n",
        "    return 'Not Found'\n",
        "\n",
        "  def __getitem__(self,index):\n",
        "\n",
        "    curr = self.head\n",
        "    pos = 0\n",
        "\n",
        "    while curr != None:\n",
        "      if pos == index:\n",
        "        return curr.data\n",
        "      curr = curr.next\n",
        "      pos = pos + 1\n",
        "\n",
        "    return 'IndexError'\n"
      ]
    },
    {
      "cell_type": "code",
      "source": [
        "#insert in middle\n",
        "def insert_after(self,after,value):\n",
        "  new_node=Node(value)\n",
        "  curr=self.head\n",
        "  while curr!=None:\n",
        "    if curr.data==after:\n",
        "      break\n",
        "    curr=curr.next\n",
        "    #case 1-mil gaya curr is not none\n",
        "    if curr!=None:\n",
        "      new_node.next=curr.next\n",
        "      curr.next=new_node\n",
        "    else:\n",
        "      return 'item not found'\n",
        "\n",
        "    #case 2-loop pura chalega curr in none\n",
        "  print(curr.data)\n"
      ],
      "metadata": {
        "id": "UnOUimByG9AW"
      },
      "execution_count": 7,
      "outputs": []
    },
    {
      "cell_type": "code",
      "source": [
        "l=LinkedList()"
      ],
      "metadata": {
        "id": "YjoAovImIo5-"
      },
      "execution_count": 15,
      "outputs": []
    },
    {
      "cell_type": "code",
      "source": [
        "l.insert_head(1)\n",
        "l.insert_head(2)\n",
        "l.insert_head(3)\n",
        "l.insert_head(4)"
      ],
      "metadata": {
        "id": "K3zbPVWZIs4r"
      },
      "execution_count": 16,
      "outputs": []
    },
    {
      "cell_type": "code",
      "source": [
        "l.append(5)\n",
        "print(l)"
      ],
      "metadata": {
        "colab": {
          "base_uri": "https://localhost:8080/"
        },
        "id": "AeiDhfa-I2PM",
        "outputId": "13ecfd9a-97d7-4dae-e847-6c7e0f4e3bb3"
      },
      "execution_count": 20,
      "outputs": [
        {
          "output_type": "stream",
          "name": "stdout",
          "text": [
            "4->500->3->2->1->5->5\n"
          ]
        }
      ]
    },
    {
      "cell_type": "code",
      "source": [],
      "metadata": {
        "id": "PMVS4wspKU4_"
      },
      "execution_count": null,
      "outputs": []
    },
    {
      "cell_type": "code",
      "source": [
        "l.insert_after(100,500)"
      ],
      "metadata": {
        "colab": {
          "base_uri": "https://localhost:8080/",
          "height": 35
        },
        "id": "SvujRdXoI6G8",
        "outputId": "c19e6ac6-84b8-4c6b-fd7b-16fec67408cb"
      },
      "execution_count": 18,
      "outputs": [
        {
          "output_type": "execute_result",
          "data": {
            "text/plain": [
              "'Item not found'"
            ],
            "application/vnd.google.colaboratory.intrinsic+json": {
              "type": "string"
            }
          },
          "metadata": {},
          "execution_count": 18
        }
      ]
    },
    {
      "cell_type": "code",
      "source": [
        "l.insert_after(4,500)"
      ],
      "metadata": {
        "id": "OPWLZK1oI_dn"
      },
      "execution_count": 19,
      "outputs": []
    }
  ]
}