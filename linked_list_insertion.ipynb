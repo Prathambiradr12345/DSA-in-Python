{
  "nbformat": 4,
  "nbformat_minor": 0,
  "metadata": {
    "colab": {
      "provenance": [],
      "authorship_tag": "ABX9TyMdTgKW3z3vAMXRDYW/V1S8",
      "include_colab_link": true
    },
    "kernelspec": {
      "name": "python3",
      "display_name": "Python 3"
    },
    "language_info": {
      "name": "python"
    }
  },
  "cells": [
    {
      "cell_type": "markdown",
      "metadata": {
        "id": "view-in-github",
        "colab_type": "text"
      },
      "source": [
        "<a href=\"https://colab.research.google.com/github/Prathambiradr12345/DSA-in-Python/blob/main/linked_list_insertion.ipynb\" target=\"_parent\"><img src=\"https://colab.research.google.com/assets/colab-badge.svg\" alt=\"Open In Colab\"/></a>"
      ]
    },
    {
      "cell_type": "code",
      "source": [],
      "metadata": {
        "id": "TAi-kwvh0PQe"
      },
      "execution_count": null,
      "outputs": []
    },
    {
      "cell_type": "code",
      "source": [],
      "metadata": {
        "id": "F4CVnx-20XlU"
      },
      "execution_count": null,
      "outputs": []
    },
    {
      "cell_type": "code",
      "source": [
        "class Node: # first define the Node class\n",
        "  def __init__(self,value):\n",
        "    self.value=value\n",
        "    self.next=None\n",
        "\n",
        "class linkedlist:\n",
        "  def __init__(self): # define the constructor for the linkedlist class\n",
        "    self.head = None # initialize the head attribute to None\n",
        "    self.n = 0 # initialize the length of the list to 0\n",
        "\n",
        "  def insert(self,value):\n",
        "    #new node\n",
        "    new_node=Node(value)\n",
        "    #create connection\n",
        "    new_node.next=self.head\n",
        "    #reassign head\n",
        "    self.head=new_node\n",
        "    #increment n\n",
        "    self.n=self.n+1\n",
        "\n",
        "  def __len__(self): # define the __len__ method for the linkedlist class\n",
        "    return self.n # return the length of the list"
      ],
      "metadata": {
        "id": "08ePkdxozeHo"
      },
      "execution_count": 10,
      "outputs": []
    },
    {
      "cell_type": "code",
      "source": [
        "l=linkedlist()"
      ],
      "metadata": {
        "id": "nwK5gY3b0ZCT"
      },
      "execution_count": 11,
      "outputs": []
    },
    {
      "cell_type": "code",
      "source": [
        "l.insert(1)\n",
        "l.insert(5)\n",
        "l.insert(6)\n",
        "l.insert(7)\n",
        "l.insert(9)\n"
      ],
      "metadata": {
        "id": "TVB5vYcF0cN1"
      },
      "execution_count": 13,
      "outputs": []
    },
    {
      "cell_type": "code",
      "source": [
        "len(l)"
      ],
      "metadata": {
        "colab": {
          "base_uri": "https://localhost:8080/"
        },
        "id": "hoEs_7f50oSJ",
        "outputId": "e706429b-f91f-44e3-e330-f69d9ee7205d"
      },
      "execution_count": 14,
      "outputs": [
        {
          "output_type": "execute_result",
          "data": {
            "text/plain": [
              "6"
            ]
          },
          "metadata": {},
          "execution_count": 14
        }
      ]
    }
  ]
}